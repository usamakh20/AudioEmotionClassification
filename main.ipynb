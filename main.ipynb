{
 "cells": [
  {
   "cell_type": "markdown",
   "source": [
    "##### Name: Usama Khalid\n",
    "##### Email: i191236@nu.edu.pk"
   ],
   "metadata": {
    "collapsed": false
   }
  },
  {
   "cell_type": "markdown",
   "source": [
    "### 1. Importing packages and initializing variables"
   ],
   "metadata": {
    "collapsed": false
   }
  },
  {
   "cell_type": "code",
   "execution_count": 38,
   "metadata": {
    "collapsed": true,
    "pycharm": {
     "name": "#%%\n"
    }
   },
   "outputs": [],
   "source": [
    "from sklearn.svm import SVC\n",
    "import librosa\n",
    "import glob\n",
    "import os\n",
    "import numpy as np\n",
    "from sklearn.metrics import classification_report\n",
    "data_dir = 'SERDataset/'\n",
    "emotions = ['Angry','Happy','Neutral','Sad']\n",
    "\n",
    "if os.path.isdir(data_dir+'Test/Neural/'):\n",
    "    os.rename(data_dir+'Test/Neural/',data_dir+'Test/Neutral')"
   ]
  },
  {
   "cell_type": "markdown",
   "source": [
    "### 2. Define feature extraction function"
   ],
   "metadata": {
    "collapsed": false
   }
  },
  {
   "cell_type": "code",
   "execution_count": 39,
   "outputs": [
    {
     "data": {
      "text/plain": "[0.20420063,\n 0.12748179,\n 1292.1764097284686,\n 1383.7299256956453,\n 2690.907579787234,\n 0.06560110538563829,\n -177.66687,\n 110.12055,\n -9.45184,\n 47.768612,\n -19.158928,\n -0.7120025,\n -17.370464,\n 8.52397,\n -9.810286,\n 10.364548,\n 3.9621286,\n -13.749555,\n 3.3712375,\n -10.224567,\n -12.50654,\n 1.9842318,\n -9.655012,\n -0.08594129,\n -0.76819074,\n 11.497403]"
     },
     "execution_count": 39,
     "metadata": {},
     "output_type": "execute_result"
    }
   ],
   "source": [
    "def extract_features(file_path):\n",
    "    signal , sampling_rate = librosa.load(file_path, sr=16000)\n",
    "    chroma_stft = librosa.feature.chroma_stft(y=signal, sr=sampling_rate)\n",
    "    rms = librosa.feature.rms(y=signal)\n",
    "    spec_cent = librosa.feature.spectral_centroid(y=signal, sr=sampling_rate)\n",
    "    spec_bw = librosa.feature.spectral_bandwidth(y=signal, sr=sampling_rate)\n",
    "    rolloff = librosa.feature.spectral_rolloff(y=signal, sr=sampling_rate)\n",
    "    zcr = librosa.feature.zero_crossing_rate(signal)\n",
    "    mfcc = librosa.feature.mfcc(y=signal, sr=sampling_rate)\n",
    "    features = [np.mean(chroma_stft),np.mean(rms),np.mean(spec_cent),np.mean(spec_bw),np.mean(rolloff),np.mean(zcr)]\n",
    "    for e in mfcc:\n",
    "        features.append(np.mean(e))\n",
    "\n",
    "    return features\n",
    "\n",
    "extract_features('SERDataset/Train/Happy/SF1_F4_H04.wav')"
   ],
   "metadata": {
    "collapsed": false,
    "pycharm": {
     "name": "#%%\n"
    }
   }
  },
  {
   "cell_type": "markdown",
   "source": [
    "### 3. Extract Features and labels\n"
   ],
   "metadata": {
    "collapsed": false,
    "pycharm": {
     "name": "#%% md\n"
    }
   }
  },
  {
   "cell_type": "code",
   "execution_count": 40,
   "outputs": [],
   "source": [
    "def get_data(path):\n",
    "    return [(extract_features(file_path),emotions.index(emotion))\n",
    "            for emotion in emotions\n",
    "            for file_path in glob.glob(data_dir + path + emotion + '/*')]\n",
    "\n"
   ],
   "metadata": {
    "collapsed": false,
    "pycharm": {
     "name": "#%%\n"
    }
   }
  },
  {
   "cell_type": "markdown",
   "source": [
    "### 4. Train Classifier"
   ],
   "metadata": {
    "collapsed": false
   }
  },
  {
   "cell_type": "code",
   "execution_count": 41,
   "outputs": [],
   "source": [
    "X_train, y_train = map(list, zip(*get_data('Train/')))\n",
    "svm_model_linear = SVC(kernel = 'linear', C = 1).fit(X_train, y_train)"
   ],
   "metadata": {
    "collapsed": false,
    "pycharm": {
     "name": "#%%\n"
    }
   }
  },
  {
   "cell_type": "markdown",
   "source": [
    "### 5. Print classification performance statistics"
   ],
   "metadata": {
    "collapsed": false
   }
  },
  {
   "cell_type": "code",
   "execution_count": 42,
   "outputs": [
    {
     "name": "stdout",
     "output_type": "stream",
     "text": [
      "              precision    recall  f1-score   support\n",
      "\n",
      "       Angry       0.94      1.00      0.97        15\n",
      "       Happy       0.88      1.00      0.94        15\n",
      "     Neutral       1.00      0.93      0.97        15\n",
      "         Sad       1.00      0.87      0.93        15\n",
      "\n",
      "    accuracy                           0.95        60\n",
      "   macro avg       0.95      0.95      0.95        60\n",
      "weighted avg       0.95      0.95      0.95        60\n",
      "\n"
     ]
    }
   ],
   "source": [
    "X_test, y_test = map(list, zip(*get_data('Test/')))\n",
    "y_pred = svm_model_linear.predict(X_test)\n",
    "print(classification_report(y_test, y_pred, target_names=emotions))\n",
    "\n",
    "\n"
   ],
   "metadata": {
    "collapsed": false,
    "pycharm": {
     "name": "#%%\n"
    }
   }
  }
 ],
 "metadata": {
  "kernelspec": {
   "name": "pycharm-846005eb",
   "language": "python",
   "display_name": "PyCharm (Hangup_calls)"
  },
  "language_info": {
   "codemirror_mode": {
    "name": "ipython",
    "version": 2
   },
   "file_extension": ".py",
   "mimetype": "text/x-python",
   "name": "python",
   "nbconvert_exporter": "python",
   "pygments_lexer": "ipython2",
   "version": "2.7.6"
  }
 },
 "nbformat": 4,
 "nbformat_minor": 0
}